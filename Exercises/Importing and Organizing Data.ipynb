{
 "cells": [
  {
   "cell_type": "code",
   "execution_count": 3,
   "metadata": {},
   "outputs": [],
   "source": [
    "import quandl\n",
    "mydata_01 = quandl.get(\"FRED/GDP\")"
   ]
  },
  {
   "cell_type": "code",
   "execution_count": 4,
   "metadata": {},
   "outputs": [
    {
     "data": {
      "text/html": [
       "<div>\n",
       "<style scoped>\n",
       "    .dataframe tbody tr th:only-of-type {\n",
       "        vertical-align: middle;\n",
       "    }\n",
       "\n",
       "    .dataframe tbody tr th {\n",
       "        vertical-align: top;\n",
       "    }\n",
       "\n",
       "    .dataframe thead th {\n",
       "        text-align: right;\n",
       "    }\n",
       "</style>\n",
       "<table border=\"1\" class=\"dataframe\">\n",
       "  <thead>\n",
       "    <tr style=\"text-align: right;\">\n",
       "      <th></th>\n",
       "      <th>Value</th>\n",
       "    </tr>\n",
       "    <tr>\n",
       "      <th>Date</th>\n",
       "      <th></th>\n",
       "    </tr>\n",
       "  </thead>\n",
       "  <tbody>\n",
       "    <tr>\n",
       "      <td>2018-10-01</td>\n",
       "      <td>20897.804</td>\n",
       "    </tr>\n",
       "    <tr>\n",
       "      <td>2019-01-01</td>\n",
       "      <td>21098.827</td>\n",
       "    </tr>\n",
       "    <tr>\n",
       "      <td>2019-04-01</td>\n",
       "      <td>21340.267</td>\n",
       "    </tr>\n",
       "    <tr>\n",
       "      <td>2019-07-01</td>\n",
       "      <td>21542.540</td>\n",
       "    </tr>\n",
       "    <tr>\n",
       "      <td>2019-10-01</td>\n",
       "      <td>21734.266</td>\n",
       "    </tr>\n",
       "  </tbody>\n",
       "</table>\n",
       "</div>"
      ],
      "text/plain": [
       "                Value\n",
       "Date                 \n",
       "2018-10-01  20897.804\n",
       "2019-01-01  21098.827\n",
       "2019-04-01  21340.267\n",
       "2019-07-01  21542.540\n",
       "2019-10-01  21734.266"
      ]
     },
     "execution_count": 4,
     "metadata": {},
     "output_type": "execute_result"
    }
   ],
   "source": [
    "mydata_01.tail()"
   ]
  },
  {
   "cell_type": "code",
   "execution_count": 5,
   "metadata": {},
   "outputs": [
    {
     "data": {
      "text/html": [
       "<div>\n",
       "<style scoped>\n",
       "    .dataframe tbody tr th:only-of-type {\n",
       "        vertical-align: middle;\n",
       "    }\n",
       "\n",
       "    .dataframe tbody tr th {\n",
       "        vertical-align: top;\n",
       "    }\n",
       "\n",
       "    .dataframe thead th {\n",
       "        text-align: right;\n",
       "    }\n",
       "</style>\n",
       "<table border=\"1\" class=\"dataframe\">\n",
       "  <thead>\n",
       "    <tr style=\"text-align: right;\">\n",
       "      <th></th>\n",
       "      <th>Value</th>\n",
       "    </tr>\n",
       "    <tr>\n",
       "      <th>Date</th>\n",
       "      <th></th>\n",
       "    </tr>\n",
       "  </thead>\n",
       "  <tbody>\n",
       "    <tr>\n",
       "      <td>1947-01-01</td>\n",
       "      <td>243.164</td>\n",
       "    </tr>\n",
       "    <tr>\n",
       "      <td>1947-04-01</td>\n",
       "      <td>245.968</td>\n",
       "    </tr>\n",
       "    <tr>\n",
       "      <td>1947-07-01</td>\n",
       "      <td>249.585</td>\n",
       "    </tr>\n",
       "    <tr>\n",
       "      <td>1947-10-01</td>\n",
       "      <td>259.745</td>\n",
       "    </tr>\n",
       "    <tr>\n",
       "      <td>1948-01-01</td>\n",
       "      <td>265.742</td>\n",
       "    </tr>\n",
       "  </tbody>\n",
       "</table>\n",
       "</div>"
      ],
      "text/plain": [
       "              Value\n",
       "Date               \n",
       "1947-01-01  243.164\n",
       "1947-04-01  245.968\n",
       "1947-07-01  249.585\n",
       "1947-10-01  259.745\n",
       "1948-01-01  265.742"
      ]
     },
     "execution_count": 5,
     "metadata": {},
     "output_type": "execute_result"
    }
   ],
   "source": [
    "mydata_01.head()"
   ]
  },
  {
   "cell_type": "code",
   "execution_count": 10,
   "metadata": {},
   "outputs": [],
   "source": [
    "import pandas as pd"
   ]
  },
  {
   "cell_type": "code",
   "execution_count": 12,
   "metadata": {},
   "outputs": [],
   "source": [
    "mydata_01.to_csv('/Users/dimitritsioutsiopoulos/Desktop/Python/New_Files/example_01.csv')"
   ]
  },
  {
   "cell_type": "code",
   "execution_count": 15,
   "metadata": {},
   "outputs": [],
   "source": [
    "mydata_02 = pd.read_csv('/Users/dimitritsioutsiopoulos/Desktop/Python/New_Files/example_01.csv')"
   ]
  },
  {
   "cell_type": "code",
   "execution_count": 16,
   "metadata": {},
   "outputs": [
    {
     "data": {
      "text/html": [
       "<div>\n",
       "<style scoped>\n",
       "    .dataframe tbody tr th:only-of-type {\n",
       "        vertical-align: middle;\n",
       "    }\n",
       "\n",
       "    .dataframe tbody tr th {\n",
       "        vertical-align: top;\n",
       "    }\n",
       "\n",
       "    .dataframe thead th {\n",
       "        text-align: right;\n",
       "    }\n",
       "</style>\n",
       "<table border=\"1\" class=\"dataframe\">\n",
       "  <thead>\n",
       "    <tr style=\"text-align: right;\">\n",
       "      <th></th>\n",
       "      <th>Date</th>\n",
       "      <th>Value</th>\n",
       "    </tr>\n",
       "  </thead>\n",
       "  <tbody>\n",
       "    <tr>\n",
       "      <td>0</td>\n",
       "      <td>1947-01-01</td>\n",
       "      <td>243.164</td>\n",
       "    </tr>\n",
       "    <tr>\n",
       "      <td>1</td>\n",
       "      <td>1947-04-01</td>\n",
       "      <td>245.968</td>\n",
       "    </tr>\n",
       "    <tr>\n",
       "      <td>2</td>\n",
       "      <td>1947-07-01</td>\n",
       "      <td>249.585</td>\n",
       "    </tr>\n",
       "    <tr>\n",
       "      <td>3</td>\n",
       "      <td>1947-10-01</td>\n",
       "      <td>259.745</td>\n",
       "    </tr>\n",
       "    <tr>\n",
       "      <td>4</td>\n",
       "      <td>1948-01-01</td>\n",
       "      <td>265.742</td>\n",
       "    </tr>\n",
       "  </tbody>\n",
       "</table>\n",
       "</div>"
      ],
      "text/plain": [
       "         Date    Value\n",
       "0  1947-01-01  243.164\n",
       "1  1947-04-01  245.968\n",
       "2  1947-07-01  249.585\n",
       "3  1947-10-01  259.745\n",
       "4  1948-01-01  265.742"
      ]
     },
     "execution_count": 16,
     "metadata": {},
     "output_type": "execute_result"
    }
   ],
   "source": [
    "mydata_02.head()"
   ]
  },
  {
   "cell_type": "code",
   "execution_count": 17,
   "metadata": {},
   "outputs": [
    {
     "data": {
      "text/html": [
       "<div>\n",
       "<style scoped>\n",
       "    .dataframe tbody tr th:only-of-type {\n",
       "        vertical-align: middle;\n",
       "    }\n",
       "\n",
       "    .dataframe tbody tr th {\n",
       "        vertical-align: top;\n",
       "    }\n",
       "\n",
       "    .dataframe thead th {\n",
       "        text-align: right;\n",
       "    }\n",
       "</style>\n",
       "<table border=\"1\" class=\"dataframe\">\n",
       "  <thead>\n",
       "    <tr style=\"text-align: right;\">\n",
       "      <th></th>\n",
       "      <th>Date</th>\n",
       "      <th>Value</th>\n",
       "    </tr>\n",
       "  </thead>\n",
       "  <tbody>\n",
       "    <tr>\n",
       "      <td>287</td>\n",
       "      <td>2018-10-01</td>\n",
       "      <td>20897.804</td>\n",
       "    </tr>\n",
       "    <tr>\n",
       "      <td>288</td>\n",
       "      <td>2019-01-01</td>\n",
       "      <td>21098.827</td>\n",
       "    </tr>\n",
       "    <tr>\n",
       "      <td>289</td>\n",
       "      <td>2019-04-01</td>\n",
       "      <td>21340.267</td>\n",
       "    </tr>\n",
       "    <tr>\n",
       "      <td>290</td>\n",
       "      <td>2019-07-01</td>\n",
       "      <td>21542.540</td>\n",
       "    </tr>\n",
       "    <tr>\n",
       "      <td>291</td>\n",
       "      <td>2019-10-01</td>\n",
       "      <td>21734.266</td>\n",
       "    </tr>\n",
       "  </tbody>\n",
       "</table>\n",
       "</div>"
      ],
      "text/plain": [
       "           Date      Value\n",
       "287  2018-10-01  20897.804\n",
       "288  2019-01-01  21098.827\n",
       "289  2019-04-01  21340.267\n",
       "290  2019-07-01  21542.540\n",
       "291  2019-10-01  21734.266"
      ]
     },
     "execution_count": 17,
     "metadata": {},
     "output_type": "execute_result"
    }
   ],
   "source": [
    "mydata_02.tail()"
   ]
  },
  {
   "cell_type": "code",
   "execution_count": 18,
   "metadata": {},
   "outputs": [],
   "source": [
    "mydata_02 = pd.read_csv('/Users/dimitritsioutsiopoulos/Desktop/Python/New_Files/example_01.csv', index_col='Date')"
   ]
  },
  {
   "cell_type": "code",
   "execution_count": 19,
   "metadata": {},
   "outputs": [
    {
     "data": {
      "text/html": [
       "<div>\n",
       "<style scoped>\n",
       "    .dataframe tbody tr th:only-of-type {\n",
       "        vertical-align: middle;\n",
       "    }\n",
       "\n",
       "    .dataframe tbody tr th {\n",
       "        vertical-align: top;\n",
       "    }\n",
       "\n",
       "    .dataframe thead th {\n",
       "        text-align: right;\n",
       "    }\n",
       "</style>\n",
       "<table border=\"1\" class=\"dataframe\">\n",
       "  <thead>\n",
       "    <tr style=\"text-align: right;\">\n",
       "      <th></th>\n",
       "      <th>Value</th>\n",
       "    </tr>\n",
       "    <tr>\n",
       "      <th>Date</th>\n",
       "      <th></th>\n",
       "    </tr>\n",
       "  </thead>\n",
       "  <tbody>\n",
       "    <tr>\n",
       "      <td>1947-01-01</td>\n",
       "      <td>243.164</td>\n",
       "    </tr>\n",
       "    <tr>\n",
       "      <td>1947-04-01</td>\n",
       "      <td>245.968</td>\n",
       "    </tr>\n",
       "    <tr>\n",
       "      <td>1947-07-01</td>\n",
       "      <td>249.585</td>\n",
       "    </tr>\n",
       "    <tr>\n",
       "      <td>1947-10-01</td>\n",
       "      <td>259.745</td>\n",
       "    </tr>\n",
       "    <tr>\n",
       "      <td>1948-01-01</td>\n",
       "      <td>265.742</td>\n",
       "    </tr>\n",
       "    <tr>\n",
       "      <td>...</td>\n",
       "      <td>...</td>\n",
       "    </tr>\n",
       "    <tr>\n",
       "      <td>2018-10-01</td>\n",
       "      <td>20897.804</td>\n",
       "    </tr>\n",
       "    <tr>\n",
       "      <td>2019-01-01</td>\n",
       "      <td>21098.827</td>\n",
       "    </tr>\n",
       "    <tr>\n",
       "      <td>2019-04-01</td>\n",
       "      <td>21340.267</td>\n",
       "    </tr>\n",
       "    <tr>\n",
       "      <td>2019-07-01</td>\n",
       "      <td>21542.540</td>\n",
       "    </tr>\n",
       "    <tr>\n",
       "      <td>2019-10-01</td>\n",
       "      <td>21734.266</td>\n",
       "    </tr>\n",
       "  </tbody>\n",
       "</table>\n",
       "<p>292 rows × 1 columns</p>\n",
       "</div>"
      ],
      "text/plain": [
       "                Value\n",
       "Date                 \n",
       "1947-01-01    243.164\n",
       "1947-04-01    245.968\n",
       "1947-07-01    249.585\n",
       "1947-10-01    259.745\n",
       "1948-01-01    265.742\n",
       "...               ...\n",
       "2018-10-01  20897.804\n",
       "2019-01-01  21098.827\n",
       "2019-04-01  21340.267\n",
       "2019-07-01  21542.540\n",
       "2019-10-01  21734.266\n",
       "\n",
       "[292 rows x 1 columns]"
      ]
     },
     "execution_count": 19,
     "metadata": {},
     "output_type": "execute_result"
    }
   ],
   "source": [
    "mydata_02"
   ]
  },
  {
   "cell_type": "code",
   "execution_count": null,
   "metadata": {},
   "outputs": [],
   "source": []
  }
 ],
 "metadata": {
  "kernelspec": {
   "display_name": "Python 3",
   "language": "python",
   "name": "python3"
  },
  "language_info": {
   "codemirror_mode": {
    "name": "ipython",
    "version": 3
   },
   "file_extension": ".py",
   "mimetype": "text/x-python",
   "name": "python",
   "nbconvert_exporter": "python",
   "pygments_lexer": "ipython3",
   "version": "3.7.4"
  }
 },
 "nbformat": 4,
 "nbformat_minor": 2
}
